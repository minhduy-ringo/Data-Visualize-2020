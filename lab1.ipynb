{
 "cells": [
  {
   "cell_type": "code",
   "execution_count": 1,
   "metadata": {
    "collapsed": true,
    "jupyter": {
     "outputs_hidden": true
    }
   },
   "outputs": [
    {
     "name": "stderr",
     "output_type": "stream",
     "text": [
      "2020-06-09 14:27:47 [scrapy.utils.log] INFO: Scrapy 2.1.0 started (bot: scrapybot)\n",
      "2020-06-09 14:27:47 [scrapy.utils.log] INFO: Versions: lxml 4.4.1.0, libxml2 2.9.9, cssselect 1.1.0, parsel 1.6.0, w3lib 1.22.0, Twisted 20.3.0, Python 3.7.4 (default, Aug  9 2019, 18:34:13) [MSC v.1915 64 bit (AMD64)], pyOpenSSL 19.0.0 (OpenSSL 1.1.1d  10 Sep 2019), cryptography 2.7, Platform Windows-10-10.0.18362-SP0\n",
      "2020-06-09 14:27:47 [scrapy.utils.log] DEBUG: Using reactor: twisted.internet.selectreactor.SelectReactor\n",
      "2020-06-09 14:27:47 [scrapy.crawler] INFO: Overridden settings:\n",
      "{}\n",
      "2020-06-09 14:27:47 [scrapy.extensions.telnet] INFO: Telnet Password: 868f9d5152418a7b\n",
      "2020-06-09 14:27:47 [scrapy.middleware] INFO: Enabled extensions:\n",
      "['scrapy.extensions.corestats.CoreStats',\n",
      " 'scrapy.extensions.telnet.TelnetConsole',\n",
      " 'scrapy.extensions.logstats.LogStats']\n",
      "2020-06-09 14:27:48 [scrapy.middleware] INFO: Enabled downloader middlewares:\n",
      "['scrapy.downloadermiddlewares.httpauth.HttpAuthMiddleware',\n",
      " 'scrapy.downloadermiddlewares.downloadtimeout.DownloadTimeoutMiddleware',\n",
      " 'scrapy.downloadermiddlewares.defaultheaders.DefaultHeadersMiddleware',\n",
      " 'scrapy.downloadermiddlewares.useragent.UserAgentMiddleware',\n",
      " 'scrapy.downloadermiddlewares.retry.RetryMiddleware',\n",
      " 'scrapy.downloadermiddlewares.redirect.MetaRefreshMiddleware',\n",
      " 'scrapy.downloadermiddlewares.httpcompression.HttpCompressionMiddleware',\n",
      " 'scrapy.downloadermiddlewares.redirect.RedirectMiddleware',\n",
      " 'scrapy.downloadermiddlewares.cookies.CookiesMiddleware',\n",
      " 'scrapy.downloadermiddlewares.httpproxy.HttpProxyMiddleware',\n",
      " 'scrapy.downloadermiddlewares.stats.DownloaderStats']\n",
      "2020-06-09 14:27:48 [scrapy.middleware] INFO: Enabled spider middlewares:\n",
      "['scrapy.spidermiddlewares.httperror.HttpErrorMiddleware',\n",
      " 'scrapy.spidermiddlewares.offsite.OffsiteMiddleware',\n",
      " 'scrapy.spidermiddlewares.referer.RefererMiddleware',\n",
      " 'scrapy.spidermiddlewares.urllength.UrlLengthMiddleware',\n",
      " 'scrapy.spidermiddlewares.depth.DepthMiddleware']\n",
      "2020-06-09 14:27:48 [scrapy.middleware] INFO: Enabled item pipelines:\n",
      "[]\n",
      "2020-06-09 14:27:48 [scrapy.core.engine] INFO: Spider opened\n",
      "2020-06-09 14:27:48 [scrapy.extensions.logstats] INFO: Crawled 0 pages (at 0 pages/min), scraped 0 items (at 0 items/min)\n",
      "2020-06-09 14:27:48 [scrapy.extensions.telnet] INFO: Telnet console listening on 127.0.0.1:6023\n",
      "2020-06-09 14:27:49 [scrapy.core.engine] DEBUG: Crawled (200) <GET https://www.worldometers.info/coronavirus/> (referer: None)\n",
      "2020-06-09 14:27:49 [scrapy.core.engine] INFO: Closing spider (finished)\n",
      "2020-06-09 14:27:49 [scrapy.statscollectors] INFO: Dumping Scrapy stats:\n",
      "{'downloader/request_bytes': 233,\n",
      " 'downloader/request_count': 1,\n",
      " 'downloader/request_method_count/GET': 1,\n",
      " 'downloader/response_bytes': 135795,\n",
      " 'downloader/response_count': 1,\n",
      " 'downloader/response_status_count/200': 1,\n",
      " 'elapsed_time_seconds': 1.563359,\n",
      " 'finish_reason': 'finished',\n",
      " 'finish_time': datetime.datetime(2020, 6, 9, 7, 27, 49, 762484),\n",
      " 'log_count/DEBUG': 1,\n",
      " 'log_count/INFO': 10,\n",
      " 'response_received_count': 1,\n",
      " 'scheduler/dequeued': 1,\n",
      " 'scheduler/dequeued/memory': 1,\n",
      " 'scheduler/enqueued': 1,\n",
      " 'scheduler/enqueued/memory': 1,\n",
      " 'start_time': datetime.datetime(2020, 6, 9, 7, 27, 48, 199125)}\n",
      "2020-06-09 14:27:49 [scrapy.core.engine] INFO: Spider closed (finished)\n"
     ]
    }
   ],
   "source": [
    "# Chạy cell này khi muốn crawl dữ liệu tại thời điểm hiện tại trên https://www.worldometers.info/coronavirus/\n",
    "# Nếu muốn crawl lại cần reset kernel\n",
    "# Tab Kernal > Reset Kernel\n",
    "# Xuất ra file .csv định dạng 'Corona_WorldWide_ddMMM_hhmmhrs.csv' được lưu trong folder corona_tracking\n",
    "import run_crawler"
   ]
  },
  {
   "cell_type": "code",
   "execution_count": 60,
   "metadata": {},
   "outputs": [],
   "source": [
    "import matplotlib.pyplot as plt\n",
    "import pandas as pd"
   ]
  },
  {
   "cell_type": "code",
   "execution_count": 61,
   "metadata": {},
   "outputs": [],
   "source": [
    "from ultils import FindByDate"
   ]
  },
  {
   "cell_type": "code",
   "execution_count": 62,
   "metadata": {},
   "outputs": [],
   "source": [
    "file = FindByDate('06Jun')\n",
    "total_df = pd.read_csv(file, encoding='latin-1', index_col=\"Country/Other\", thousands=\",\")"
   ]
  },
  {
   "cell_type": "code",
   "execution_count": 63,
   "metadata": {},
   "outputs": [
    {
     "data": {
      "text/html": [
       "<div>\n",
       "<style scoped>\n",
       "    .dataframe tbody tr th:only-of-type {\n",
       "        vertical-align: middle;\n",
       "    }\n",
       "\n",
       "    .dataframe tbody tr th {\n",
       "        vertical-align: top;\n",
       "    }\n",
       "\n",
       "    .dataframe thead th {\n",
       "        text-align: right;\n",
       "    }\n",
       "</style>\n",
       "<table border=\"1\" class=\"dataframe\">\n",
       "  <thead>\n",
       "    <tr style=\"text-align: right;\">\n",
       "      <th></th>\n",
       "      <th>#</th>\n",
       "      <th>Total Cases</th>\n",
       "      <th>New Cases</th>\n",
       "      <th>Total Deaths</th>\n",
       "      <th>New Deaths</th>\n",
       "      <th>Total Recovered</th>\n",
       "      <th>New Recovered</th>\n",
       "      <th>Active Cases</th>\n",
       "      <th>Serious/Critical</th>\n",
       "      <th>Tot Cases/1M pop</th>\n",
       "      <th>Deaths/1M pop</th>\n",
       "      <th>Total Tests</th>\n",
       "      <th>Population</th>\n",
       "    </tr>\n",
       "    <tr>\n",
       "      <th>Country/Other</th>\n",
       "      <th></th>\n",
       "      <th></th>\n",
       "      <th></th>\n",
       "      <th></th>\n",
       "      <th></th>\n",
       "      <th></th>\n",
       "      <th></th>\n",
       "      <th></th>\n",
       "      <th></th>\n",
       "      <th></th>\n",
       "      <th></th>\n",
       "      <th></th>\n",
       "      <th></th>\n",
       "    </tr>\n",
       "  </thead>\n",
       "  <tbody>\n",
       "    <tr>\n",
       "      <td>North America</td>\n",
       "      <td>NaN</td>\n",
       "      <td>2229176</td>\n",
       "      <td>5160.0</td>\n",
       "      <td>133,972</td>\n",
       "      <td>692.0</td>\n",
       "      <td>898723.0</td>\n",
       "      <td>3345.0</td>\n",
       "      <td>1196481.0</td>\n",
       "      <td>19520.0</td>\n",
       "      <td>NaN</td>\n",
       "      <td>NaN</td>\n",
       "      <td>NaN</td>\n",
       "      <td>NaN</td>\n",
       "    </tr>\n",
       "    <tr>\n",
       "      <td>South America</td>\n",
       "      <td>NaN</td>\n",
       "      <td>1072792</td>\n",
       "      <td>484.0</td>\n",
       "      <td>47,463</td>\n",
       "      <td>12.0</td>\n",
       "      <td>520953.0</td>\n",
       "      <td>13513.0</td>\n",
       "      <td>504376.0</td>\n",
       "      <td>11756.0</td>\n",
       "      <td>NaN</td>\n",
       "      <td>NaN</td>\n",
       "      <td>NaN</td>\n",
       "      <td>NaN</td>\n",
       "    </tr>\n",
       "    <tr>\n",
       "      <td>Europe</td>\n",
       "      <td>NaN</td>\n",
       "      <td>2062733</td>\n",
       "      <td>612.0</td>\n",
       "      <td>177,978</td>\n",
       "      <td>19.0</td>\n",
       "      <td>1057051.0</td>\n",
       "      <td>1243.0</td>\n",
       "      <td>827704.0</td>\n",
       "      <td>7321.0</td>\n",
       "      <td>NaN</td>\n",
       "      <td>NaN</td>\n",
       "      <td>NaN</td>\n",
       "      <td>NaN</td>\n",
       "    </tr>\n",
       "    <tr>\n",
       "      <td>Asia</td>\n",
       "      <td>NaN</td>\n",
       "      <td>1299214</td>\n",
       "      <td>7091.0</td>\n",
       "      <td>33,792</td>\n",
       "      <td>117.0</td>\n",
       "      <td>786754.0</td>\n",
       "      <td>2565.0</td>\n",
       "      <td>478668.0</td>\n",
       "      <td>14574.0</td>\n",
       "      <td>NaN</td>\n",
       "      <td>NaN</td>\n",
       "      <td>NaN</td>\n",
       "      <td>NaN</td>\n",
       "    </tr>\n",
       "    <tr>\n",
       "      <td>Africa</td>\n",
       "      <td>NaN</td>\n",
       "      <td>179337</td>\n",
       "      <td>NaN</td>\n",
       "      <td>4,942</td>\n",
       "      <td>NaN</td>\n",
       "      <td>80324.0</td>\n",
       "      <td>NaN</td>\n",
       "      <td>94071.0</td>\n",
       "      <td>443.0</td>\n",
       "      <td>NaN</td>\n",
       "      <td>NaN</td>\n",
       "      <td>NaN</td>\n",
       "      <td>NaN</td>\n",
       "    </tr>\n",
       "    <tr>\n",
       "      <td>...</td>\n",
       "      <td>...</td>\n",
       "      <td>...</td>\n",
       "      <td>...</td>\n",
       "      <td>...</td>\n",
       "      <td>...</td>\n",
       "      <td>...</td>\n",
       "      <td>...</td>\n",
       "      <td>...</td>\n",
       "      <td>...</td>\n",
       "      <td>...</td>\n",
       "      <td>...</td>\n",
       "      <td>...</td>\n",
       "      <td>...</td>\n",
       "    </tr>\n",
       "    <tr>\n",
       "      <td>St. Barth</td>\n",
       "      <td>211.0</td>\n",
       "      <td>6</td>\n",
       "      <td>NaN</td>\n",
       "      <td></td>\n",
       "      <td>NaN</td>\n",
       "      <td>6.0</td>\n",
       "      <td>NaN</td>\n",
       "      <td>0.0</td>\n",
       "      <td>NaN</td>\n",
       "      <td>608.0</td>\n",
       "      <td>NaN</td>\n",
       "      <td>137.0</td>\n",
       "      <td>13873.0</td>\n",
       "    </tr>\n",
       "    <tr>\n",
       "      <td>Lesotho</td>\n",
       "      <td>212.0</td>\n",
       "      <td>4</td>\n",
       "      <td>NaN</td>\n",
       "      <td></td>\n",
       "      <td>NaN</td>\n",
       "      <td>2.0</td>\n",
       "      <td>NaN</td>\n",
       "      <td>2.0</td>\n",
       "      <td>NaN</td>\n",
       "      <td>2.0</td>\n",
       "      <td>NaN</td>\n",
       "      <td>1515.0</td>\n",
       "      <td>708.0</td>\n",
       "    </tr>\n",
       "    <tr>\n",
       "      <td>Anguilla</td>\n",
       "      <td>213.0</td>\n",
       "      <td>3</td>\n",
       "      <td>NaN</td>\n",
       "      <td></td>\n",
       "      <td>NaN</td>\n",
       "      <td>3.0</td>\n",
       "      <td>NaN</td>\n",
       "      <td>0.0</td>\n",
       "      <td>NaN</td>\n",
       "      <td>200.0</td>\n",
       "      <td>NaN</td>\n",
       "      <td>41.0</td>\n",
       "      <td>2734.0</td>\n",
       "    </tr>\n",
       "    <tr>\n",
       "      <td>Saint Pierre Miquelon</td>\n",
       "      <td>214.0</td>\n",
       "      <td>1</td>\n",
       "      <td>NaN</td>\n",
       "      <td></td>\n",
       "      <td>NaN</td>\n",
       "      <td>1.0</td>\n",
       "      <td>NaN</td>\n",
       "      <td>0.0</td>\n",
       "      <td>NaN</td>\n",
       "      <td>173.0</td>\n",
       "      <td>NaN</td>\n",
       "      <td>NaN</td>\n",
       "      <td>NaN</td>\n",
       "    </tr>\n",
       "    <tr>\n",
       "      <td>China</td>\n",
       "      <td>215.0</td>\n",
       "      <td>83030</td>\n",
       "      <td>3.0</td>\n",
       "      <td>4,634</td>\n",
       "      <td>NaN</td>\n",
       "      <td>78329.0</td>\n",
       "      <td>2.0</td>\n",
       "      <td>67.0</td>\n",
       "      <td>2.0</td>\n",
       "      <td>58.0</td>\n",
       "      <td>3.0</td>\n",
       "      <td>NaN</td>\n",
       "      <td>NaN</td>\n",
       "    </tr>\n",
       "  </tbody>\n",
       "</table>\n",
       "<p>222 rows × 13 columns</p>\n",
       "</div>"
      ],
      "text/plain": [
       "                           #  Total Cases  New Cases Total Deaths  New Deaths  \\\n",
       "Country/Other                                                                   \n",
       "North America            NaN      2229176     5160.0      133,972       692.0   \n",
       "South America            NaN      1072792      484.0       47,463        12.0   \n",
       "Europe                   NaN      2062733      612.0      177,978        19.0   \n",
       "Asia                     NaN      1299214     7091.0       33,792       117.0   \n",
       "Africa                   NaN       179337        NaN        4,942         NaN   \n",
       "...                      ...          ...        ...          ...         ...   \n",
       "St. Barth              211.0            6        NaN                      NaN   \n",
       "Lesotho                212.0            4        NaN                      NaN   \n",
       "Anguilla               213.0            3        NaN                      NaN   \n",
       "Saint Pierre Miquelon  214.0            1        NaN                      NaN   \n",
       "China                  215.0        83030        3.0        4,634         NaN   \n",
       "\n",
       "                       Total Recovered  New Recovered  Active Cases  \\\n",
       "Country/Other                                                         \n",
       "North America                 898723.0         3345.0     1196481.0   \n",
       "South America                 520953.0        13513.0      504376.0   \n",
       "Europe                       1057051.0         1243.0      827704.0   \n",
       "Asia                          786754.0         2565.0      478668.0   \n",
       "Africa                         80324.0            NaN       94071.0   \n",
       "...                                ...            ...           ...   \n",
       "St. Barth                          6.0            NaN           0.0   \n",
       "Lesotho                            2.0            NaN           2.0   \n",
       "Anguilla                           3.0            NaN           0.0   \n",
       "Saint Pierre Miquelon              1.0            NaN           0.0   \n",
       "China                          78329.0            2.0          67.0   \n",
       "\n",
       "                       Serious/Critical  Tot Cases/1M pop  Deaths/1M pop  \\\n",
       "Country/Other                                                              \n",
       "North America                   19520.0               NaN            NaN   \n",
       "South America                   11756.0               NaN            NaN   \n",
       "Europe                           7321.0               NaN            NaN   \n",
       "Asia                            14574.0               NaN            NaN   \n",
       "Africa                            443.0               NaN            NaN   \n",
       "...                                 ...               ...            ...   \n",
       "St. Barth                           NaN             608.0            NaN   \n",
       "Lesotho                             NaN               2.0            NaN   \n",
       "Anguilla                            NaN             200.0            NaN   \n",
       "Saint Pierre Miquelon               NaN             173.0            NaN   \n",
       "China                               2.0              58.0            3.0   \n",
       "\n",
       "                       Total Tests  Population  \n",
       "Country/Other                                   \n",
       "North America                  NaN         NaN  \n",
       "South America                  NaN         NaN  \n",
       "Europe                         NaN         NaN  \n",
       "Asia                           NaN         NaN  \n",
       "Africa                         NaN         NaN  \n",
       "...                            ...         ...  \n",
       "St. Barth                    137.0     13873.0  \n",
       "Lesotho                     1515.0       708.0  \n",
       "Anguilla                      41.0      2734.0  \n",
       "Saint Pierre Miquelon          NaN         NaN  \n",
       "China                          NaN         NaN  \n",
       "\n",
       "[222 rows x 13 columns]"
      ]
     },
     "metadata": {},
     "output_type": "display_data"
    }
   ],
   "source": [
    "display(total_df)"
   ]
  },
  {
   "cell_type": "markdown",
   "metadata": {},
   "source": [
    "## Tổng số ca nhiễm theo % ở mỗi khu vực"
   ]
  },
  {
   "cell_type": "code",
   "execution_count": 64,
   "metadata": {},
   "outputs": [
    {
     "data": {
      "text/plain": [
       "Country/Other\n",
       "North America    2229176\n",
       "South America    1072792\n",
       "Europe           2062733\n",
       "Asia             1299214\n",
       "Africa            179337\n",
       "Oceania             8865\n",
       "Name: Total Cases, dtype: int64"
      ]
     },
     "metadata": {},
     "output_type": "display_data"
    }
   ],
   "source": [
    "# Tạo sub dataframe chứa Total Cases của 6 khu vực\n",
    "region_df = total_df[\"Total Cases\"][:6]\n",
    "display(region_df)"
   ]
  },
  {
   "cell_type": "code",
   "execution_count": 65,
   "metadata": {},
   "outputs": [],
   "source": [
    "# Tính % mỗi khu vực\n",
    "sum = region_df.sum(axis=0)\n",
    "percentages = []\n",
    "for r in region_df:\n",
    "    percentages.append(round((r / sum * 100),3))"
   ]
  },
  {
   "cell_type": "code",
   "execution_count": 66,
   "metadata": {},
   "outputs": [
    {
     "data": {
      "image/png": "[encoded data removed]",
      "text/plain": [
       "<Figure size 432x288 with 1 Axes>"
      ]
     },
     "metadata": {},
     "output_type": "display_data"
    }
   ],
   "source": [
    "# Tạo pie chart\n",
    "labels = region_df.index.values.tolist()\n",
    "fig1, ax1 = plt.subplots()\n",
    "\n",
    "ax1.pie(percentages, labels=labels, autopct='%1.1f')\n",
    "ax1.axis('equal')\n",
    "plt.title(label=\"Total Cases in 6 region by percentage\", pad=30)\n",
    "\n",
    "plt.show()"
   ]
  },
  {
   "cell_type": "markdown",
   "metadata": {},
   "source": [
    "## Xu hướng số ca mới mỗi ngày từ ngày 6/6/2020 tới ngày 9/6/2020"
   ]
  },
  {
   "cell_type": "code",
   "execution_count": 67,
   "metadata": {},
   "outputs": [],
   "source": [
    "from ultils import AllFiles\n",
    "all_files = AllFiles()"
   ]
  },
  {
   "cell_type": "code",
   "execution_count": 129,
   "metadata": {},
   "outputs": [],
   "source": [
    "# Đọc số liệu từ file các ngày 6,7,8,9\n",
    "jun6_df = pd.read_csv(all_files[0], encoding='latin-1', index_col=\"Country/Other\", thousands=\",\")\n",
    "jun7_df = pd.read_csv(all_files[1], encoding='latin-1', index_col=\"Country/Other\", thousands=\",\")\n",
    "jun8_df = pd.read_csv(all_files[2], encoding='latin-1', index_col=\"Country/Other\", thousands=\",\")\n",
    "jun9_df = pd.read_csv(all_files[3], encoding='latin-1', index_col=\"Country/Other\", thousands=\",\")"
   ]
  },
  {
   "cell_type": "code",
   "execution_count": 134,
   "metadata": {},
   "outputs": [],
   "source": [
    "# Lọc lấy cột New Cases\n",
    "jun6_nc = jun6_df[\"New Cases\"][:6].dropna().astype('int64')\n",
    "jun7_nc = jun7_df[\"New Cases\"][:6].dropna().astype('int64')\n",
    "jun8_nc = jun8_df[\"New Cases\"][:6].dropna().astype('int64')\n",
    "jun9_nc = jun9_df[\"New Cases\"][:6].dropna().astype('int64')"
   ]
  },
  {
   "cell_type": "code",
   "execution_count": 135,
   "metadata": {
    "collapsed": true,
    "jupyter": {
     "outputs_hidden": true
    }
   },
   "outputs": [
    {
     "data": {
      "text/html": [
       "<div>\n",
       "<style scoped>\n",
       "    .dataframe tbody tr th:only-of-type {\n",
       "        vertical-align: middle;\n",
       "    }\n",
       "\n",
       "    .dataframe tbody tr th {\n",
       "        vertical-align: top;\n",
       "    }\n",
       "\n",
       "    .dataframe thead th {\n",
       "        text-align: right;\n",
       "    }\n",
       "</style>\n",
       "<table border=\"1\" class=\"dataframe\">\n",
       "  <thead>\n",
       "    <tr style=\"text-align: right;\">\n",
       "      <th></th>\n",
       "      <th>June 6</th>\n",
       "      <th>June 7</th>\n",
       "      <th>June 8</th>\n",
       "      <th>June 9</th>\n",
       "    </tr>\n",
       "  </thead>\n",
       "  <tbody>\n",
       "    <tr>\n",
       "      <td>North America</td>\n",
       "      <td>5160.0</td>\n",
       "      <td>4167</td>\n",
       "      <td>4183.0</td>\n",
       "      <td>3965.0</td>\n",
       "    </tr>\n",
       "    <tr>\n",
       "      <td>South America</td>\n",
       "      <td>484.0</td>\n",
       "      <td>3537</td>\n",
       "      <td>285.0</td>\n",
       "      <td>308.0</td>\n",
       "    </tr>\n",
       "    <tr>\n",
       "      <td>Europe</td>\n",
       "      <td>612.0</td>\n",
       "      <td>487</td>\n",
       "      <td>486.0</td>\n",
       "      <td>428.0</td>\n",
       "    </tr>\n",
       "    <tr>\n",
       "      <td>Asia</td>\n",
       "      <td>7091.0</td>\n",
       "      <td>7724</td>\n",
       "      <td>6816.0</td>\n",
       "      <td>7008.0</td>\n",
       "    </tr>\n",
       "    <tr>\n",
       "      <td>Oceania</td>\n",
       "      <td>4.0</td>\n",
       "      <td>4</td>\n",
       "      <td>5.0</td>\n",
       "      <td>2.0</td>\n",
       "    </tr>\n",
       "    <tr>\n",
       "      <td>Africa</td>\n",
       "      <td>NaN</td>\n",
       "      <td>323</td>\n",
       "      <td>NaN</td>\n",
       "      <td>NaN</td>\n",
       "    </tr>\n",
       "  </tbody>\n",
       "</table>\n",
       "</div>"
      ],
      "text/plain": [
       "               June 6  June 7  June 8  June 9\n",
       "North America  5160.0    4167  4183.0  3965.0\n",
       "South America   484.0    3537   285.0   308.0\n",
       "Europe          612.0     487   486.0   428.0\n",
       "Asia           7091.0    7724  6816.0  7008.0\n",
       "Oceania           4.0       4     5.0     2.0\n",
       "Africa            NaN     323     NaN     NaN"
      ]
     },
     "metadata": {},
     "output_type": "display_data"
    }
   ],
   "source": [
    "nc_df = pd.DataFrame(index=jun6_nc.index)\n",
    "nc_df = pd.concat((nc_df, jun6_nc.rename('June 6')), axis=1, sort=False)\n",
    "nc_df = pd.concat((nc_df, jun7_nc.rename('June 7')), axis=1, sort=False)\n",
    "nc_df = pd.concat((nc_df, jun8_nc.rename('June 8')), axis=1, sort=False)\n",
    "nc_df = pd.concat((nc_df, jun9_nc.rename('June 9')), axis=1, sort=False)\n",
    "display(nc_df)"
   ]
  },
  {
   "cell_type": "code",
   "execution_count": 136,
   "metadata": {},
   "outputs": [
    {
     "data": {
      "text/plain": [
       "<matplotlib.legend.Legend at 0x199b941f508>"
      ]
     },
     "execution_count": 136,
     "metadata": {},
     "output_type": "execute_result"
    },
    {
     "data": {
      "image/png": "[encoded data removed]",
      "text/plain": [
       "<Figure size 432x288 with 1 Axes>"
      ]
     },
     "metadata": {
      "needs_background": "light"
     },
     "output_type": "display_data"
    }
   ],
   "source": [
    "plt.plot(nc_df.T)\n",
    "plt.legend(nc_df.T, bbox_to_anchor=(1.4,1))"
   ]
  },
  {
   "cell_type": "markdown",
   "metadata": {},
   "source": [
    "Số lượng các ca nhiễm mới trong 4 ngày 6, 7, 8 và 9 tháng 6 không có nhiều biến động trừ khu vực Nam Mĩ tăng đột biến vào ngày 7.\n",
    "#### Số lượng ca vẫn tăng đều theo từng ngày "
   ]
  },
  {
   "cell_type": "code",
   "execution_count": null,
   "metadata": {},
   "outputs": [],
   "source": []
  }
 ],
 "metadata": {
  "kernelspec": {
   "display_name": "Python 3",
   "language": "python",
   "name": "python3"
  },
  "language_info": {
   "codemirror_mode": {
    "name": "ipython",
    "version": 3
   },
   "file_extension": ".py",
   "mimetype": "text/x-python",
   "name": "python",
   "nbconvert_exporter": "python",
   "pygments_lexer": "ipython3",
   "version": "3.7.4"
  }
 },
 "nbformat": 4,
 "nbformat_minor": 4
}
